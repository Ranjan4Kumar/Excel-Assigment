{
  "nbformat": 4,
  "nbformat_minor": 0,
  "metadata": {
    "colab": {
      "provenance": [],
      "mount_file_id": "1b15IJGxA9ilxxNZIJ_f5Y4epUISbhz6v",
      "authorship_tag": "ABX9TyOuRQlCi5jHUGXTM2me48+u",
      "include_colab_link": true
    },
    "kernelspec": {
      "name": "python3",
      "display_name": "Python 3"
    },
    "language_info": {
      "name": "python"
    }
  },
  "cells": [
    {
      "cell_type": "markdown",
      "metadata": {
        "id": "view-in-github",
        "colab_type": "text"
      },
      "source": [
        "<a href=\"https://colab.research.google.com/github/Ranjan4Kumar/Excel-Assigment/blob/main/Combined_multiple_Sheets.ipynb\" target=\"_parent\"><img src=\"https://colab.research.google.com/assets/colab-badge.svg\" alt=\"Open In Colab\"/></a>"
      ]
    },
    {
      "cell_type": "code",
      "execution_count": 15,
      "metadata": {
        "id": "9htXLGnxYTuF"
      },
      "outputs": [],
      "source": [
        "import pandas as pd\n",
        "import numpy as np\n"
      ]
    },
    {
      "cell_type": "code",
      "source": [],
      "metadata": {
        "id": "ZvmqLa7vYzN9"
      },
      "execution_count": 17,
      "outputs": []
    },
    {
      "cell_type": "code",
      "source": [
        "# COMBNING MULTIPLE SHEETS PRESENT IN ONE FILE\n",
        "\n",
        "input_files = '/content/drive/MyDrive/DS/Excel Assigment/Student_list_new.xlsx'\n",
        "sheet_names = ['14-16 Ranjan','17-18 Renny','19-22 Dheeraj','23-25 manoj']\n",
        "data_frames = []\n",
        "\n",
        "for sheet_name in sheet_names:\n",
        "  data = pd.read_excel(input_files, sheet_name = sheet_name)\n",
        "  data_frames.append(data)\n",
        "\n",
        "combined_data= pd.concat(data_frames,ignore_index = True)\n",
        "output = 'CombinedSheet'\n",
        "\n",
        "with pd.ExcelWriter(input_files, engine = 'openpyxl', mode = 'a') as writer:\n",
        "  combined_data.to_excel(writer, sheet_name = output, index = False)\n",
        "print(input_files)"
      ],
      "metadata": {
        "colab": {
          "base_uri": "https://localhost:8080/"
        },
        "id": "swPfl23GY2ln",
        "outputId": "a5e7e912-4f70-432b-9a8b-f6e1cdfded15"
      },
      "execution_count": 18,
      "outputs": [
        {
          "output_type": "stream",
          "name": "stderr",
          "text": [
            "<ipython-input-18-8fe5c34f4843>:9: FutureWarning: Behavior when concatenating bool-dtype and numeric-dtype arrays is deprecated; in a future version these will cast to object dtype (instead of coercing bools to numeric values). To retain the old behavior, explicitly cast bool-dtype arrays to numeric dtype.\n",
            "  combined_data= pd.concat(data_frames,ignore_index = True)\n"
          ]
        },
        {
          "output_type": "stream",
          "name": "stdout",
          "text": [
            "/content/drive/MyDrive/DS/Excel Assigment/Student_list_new.xlsx\n"
          ]
        }
      ]
    },
    {
      "cell_type": "code",
      "source": [
        "# COMBINING MULTIPE FILES\n",
        "import pandas as pd\n",
        "\n",
        "# List of Excel files to be combined\n",
        "excel_files = ['file1.xlsx', 'file2.xlsx', 'file3.xlsx', 'file4.xlsx']\n",
        "\n",
        "# Name of the sheet in each Excel file to be combined\n",
        "sheet_name = 'Sheet1'\n",
        "\n",
        "# Initialize an Excel writer to write to a single output file\n",
        "output_file = 'combined_output.xlsx'\n",
        "excel_writer = pd.ExcelWriter(output_file, engine='xlsxwriter')\n",
        "\n",
        "# Loop through each Excel file and combine the specified sheet\n",
        "for file in excel_files:\n",
        "    data = pd.read_excel(file, sheet_name=sheet_name)\n",
        "    data.to_excel(excel_writer, sheet_name=sheet_name, index=False, startrow=excel_writer.sheets[sheet_name].max_row)\n",
        "\n",
        "# Save the combined data to the output file\n",
        "excel_writer.save()\n",
        "\n",
        "print(\"Combined sheets saved to\", output_file)\n"
      ],
      "metadata": {
        "id": "zRX4QPabZ_KU"
      },
      "execution_count": null,
      "outputs": []
    }
  ]
}